{
  "nbformat": 4,
  "nbformat_minor": 0,
  "metadata": {
    "colab": {
      "provenance": [],
      "include_colab_link": true
    },
    "kernelspec": {
      "name": "python3",
      "display_name": "Python 3"
    },
    "language_info": {
      "name": "python"
    }
  },
  "cells": [
    {
      "cell_type": "markdown",
      "metadata": {
        "id": "view-in-github",
        "colab_type": "text"
      },
      "source": [
        "<a href=\"https://colab.research.google.com/github/rahul-bellam/nlp-lab/blob/main/cfg.ipynb\" target=\"_parent\"><img src=\"https://colab.research.google.com/assets/colab-badge.svg\" alt=\"Open In Colab\"/></a>"
      ]
    },
    {
      "cell_type": "code",
      "execution_count": 1,
      "metadata": {
        "colab": {
          "base_uri": "https://localhost:8080/"
        },
        "id": "S_MOzNl9suL6",
        "outputId": "0336b52a-fadc-4f1a-ddc4-f7267aeb7776"
      },
      "outputs": [
        {
          "output_type": "stream",
          "name": "stdout",
          "text": [
            "Grammar with 30 productions (start state = S)\n",
            "    S -> NP VP\n",
            "    S -> VP\n",
            "    NP -> Det Adj N\n",
            "    NP -> Det N\n",
            "    NP -> N\n",
            "    VP -> V NP\n",
            "    VP -> V NP PP\n",
            "    VP -> V Adv\n",
            "    VP -> V\n",
            "    PP -> P NP\n",
            "    Det -> 'some'\n",
            "    Det -> 'every'\n",
            "    Det -> 'this'\n",
            "    Adj -> 'tall'\n",
            "    Adj -> 'small'\n",
            "    Adj -> 'ancient'\n",
            "    N -> 'wizard'\n",
            "    N -> 'castle'\n",
            "    N -> 'forest'\n",
            "    N -> 'dragon'\n",
            "    V -> 'discovered'\n",
            "    V -> 'conquered'\n",
            "    V -> 'protected'\n",
            "    V -> 'flew'\n",
            "    P -> 'through'\n",
            "    P -> 'beyond'\n",
            "    P -> 'towards'\n",
            "    Adv -> 'quickly'\n",
            "    Adv -> 'silently'\n",
            "    Adv -> 'bravely'\n"
          ]
        }
      ],
      "source": [
        "import nltk\n",
        "from nltk import CFG\n",
        "import string\n",
        "\n",
        "\n",
        "grammar = CFG.fromstring(\"\"\"\n",
        "S  -> NP VP | VP\n",
        "NP -> Det Adj N | Det N | N\n",
        "VP -> V NP | V NP PP | V Adv | V\n",
        "PP -> P NP\n",
        "Det -> 'some' | 'every' | 'this'\n",
        "Adj -> 'tall' | 'small' | 'ancient'\n",
        "N  -> 'wizard' | 'castle' | 'forest' | 'dragon'\n",
        "V  -> 'discovered' | 'conquered' | 'protected' | 'flew'\n",
        "P  -> 'through' | 'beyond' | 'towards'\n",
        "Adv -> 'quickly' | 'silently' | 'bravely'\n",
        "\"\"\")\n",
        "print(grammar)"
      ]
    },
    {
      "cell_type": "code",
      "source": [
        "def preprocess(sentence):\n",
        "    return sentence.lower().translate(str.maketrans('', '', string.punctuation)).split()\n"
      ],
      "metadata": {
        "id": "bVVQVFQO0tKU"
      },
      "execution_count": 2,
      "outputs": []
    },
    {
      "cell_type": "code",
      "source": [
        "from nltk.parse import RecursiveDescentParser\n",
        "\n",
        "sentence = preprocess(\"This castle protected bravely\")\n",
        "rd_parser = RecursiveDescentParser(grammar)\n",
        "\n",
        "for tree in rd_parser.parse(sentence):\n",
        "    print(tree)\n",
        "    tree.pretty_print()"
      ],
      "metadata": {
        "colab": {
          "base_uri": "https://localhost:8080/"
        },
        "id": "3eIUCD-asx4F",
        "outputId": "958ecd35-fadb-4afa-eeaa-2d38e105eece"
      },
      "execution_count": 3,
      "outputs": [
        {
          "output_type": "stream",
          "name": "stdout",
          "text": [
            "(S (NP (Det this) (N castle)) (VP (V protected) (Adv bravely)))\n",
            "                 S                       \n",
            "       __________|_____________           \n",
            "      NP                       VP        \n",
            "  ____|____              ______|_____     \n",
            "Det        N            V           Adv  \n",
            " |         |            |            |    \n",
            "this     castle     protected     bravely\n",
            "\n"
          ]
        }
      ]
    },
    {
      "cell_type": "code",
      "source": [
        "from nltk.parse import ShiftReduceParser\n",
        "\n",
        "sentence1 = preprocess(\"Some tall wizard discovered this ancient castle.\")\n",
        "sr_parser = ShiftReduceParser(grammar)\n",
        "for tree in sr_parser.parse(sentence1):\n",
        "    print(tree)\n",
        "    tree.pretty_print()\n"
      ],
      "metadata": {
        "colab": {
          "base_uri": "https://localhost:8080/"
        },
        "id": "onGZY8Wrs_KG",
        "outputId": "01e2f470-f3c6-4ba2-9279-8fbdfaca29ed"
      },
      "execution_count": 6,
      "outputs": [
        {
          "output_type": "stream",
          "name": "stdout",
          "text": [
            "Warning: VP -> V NP will never be used\n",
            "Warning: VP -> V NP PP will never be used\n",
            "Warning: VP -> V Adv will never be used\n"
          ]
        }
      ]
    }
  ]
}