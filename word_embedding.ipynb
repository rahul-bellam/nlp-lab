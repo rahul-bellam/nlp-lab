{
  "cells": [
    {
      "cell_type": "markdown",
      "source": [
        "implement words to vector conversion in 4 methods, 1)word2vec\n",
        "2)glove\n",
        "3)tf-idf\n",
        "4)bow"
      ],
      "metadata": {
        "id": "Wwk811isRiJ2"
      },
      "id": "Wwk811isRiJ2"
    },
    {
      "cell_type": "code",
      "source": [
        "pip install --upgrade gensim"
      ],
      "metadata": {
        "id": "cQb2wXHHlERM",
        "outputId": "52889f2f-08e3-48e3-ce36-cad092e78cf3",
        "colab": {
          "base_uri": "https://localhost:8080/"
        }
      },
      "id": "cQb2wXHHlERM",
      "execution_count": 9,
      "outputs": [
        {
          "output_type": "stream",
          "name": "stdout",
          "text": [
            "Requirement already satisfied: gensim in /usr/local/lib/python3.11/dist-packages (4.3.3)\n",
            "Requirement already satisfied: numpy<2.0,>=1.18.5 in /usr/local/lib/python3.11/dist-packages (from gensim) (1.26.4)\n",
            "Requirement already satisfied: scipy<1.14.0,>=1.7.0 in /usr/local/lib/python3.11/dist-packages (from gensim) (1.13.1)\n",
            "Requirement already satisfied: smart-open>=1.8.1 in /usr/local/lib/python3.11/dist-packages (from gensim) (7.1.0)\n",
            "Requirement already satisfied: wrapt in /usr/local/lib/python3.11/dist-packages (from smart-open>=1.8.1->gensim) (1.17.2)\n"
          ]
        }
      ]
    },
    {
      "cell_type": "code",
      "source": [
        "from sklearn.feature_extraction.text import CountVectorizer\n",
        "# Sample documents\n",
        "documents = [\n",
        "    \"The cat sat on the mat.\",\n",
        "    \"The dog played with a ball.\"\n",
        "]\n",
        "# Create the BOW model\n",
        "vectorizer = CountVectorizer()\n",
        "vectors = vectorizer.fit_transform(documents)\n",
        "# Print the vocabulary and document vectors\n",
        "print(vectorizer.vocabulary_)\n",
        "print(vectors.toarray())"
      ],
      "metadata": {
        "id": "fxTlvS6gghQB",
        "outputId": "0ceece45-5533-46d0-a5f3-f6c5eb1ba3df",
        "colab": {
          "base_uri": "https://localhost:8080/"
        }
      },
      "id": "fxTlvS6gghQB",
      "execution_count": 4,
      "outputs": [
        {
          "output_type": "stream",
          "name": "stdout",
          "text": [
            "{'the': 7, 'cat': 1, 'sat': 6, 'on': 4, 'mat': 3, 'dog': 2, 'played': 5, 'with': 8, 'ball': 0}\n",
            "[[0 1 0 1 1 0 1 2 0]\n",
            " [1 0 1 0 0 1 0 1 1]]\n"
          ]
        }
      ]
    },
    {
      "cell_type": "code",
      "source": [
        "from sklearn.feature_extraction.text import TfidfVectorizer\n",
        "# Sample documents\n",
        "documents = [\n",
        "    \"The cat sat on the mat.\",\n",
        "    \"The dog played with a ball.\"\n",
        "]\n",
        "# Create the TF-IDF model\n",
        "vectorizer = TfidfVectorizer()\n",
        "vectors = vectorizer.fit_transform(documents)\n",
        "# Print the vocabulary and document vectors\n",
        "print(vectorizer.vocabulary_)\n",
        "print(vectors.toarray())"
      ],
      "metadata": {
        "id": "uVHNBUf1kbiD",
        "outputId": "b259773f-bc96-4602-f6d3-132d715ef663",
        "colab": {
          "base_uri": "https://localhost:8080/"
        }
      },
      "id": "uVHNBUf1kbiD",
      "execution_count": 5,
      "outputs": [
        {
          "output_type": "stream",
          "name": "stdout",
          "text": [
            "{'the': 7, 'cat': 1, 'sat': 6, 'on': 4, 'mat': 3, 'dog': 2, 'played': 5, 'with': 8, 'ball': 0}\n",
            "[[0.         0.40740124 0.         0.40740124 0.40740124 0.\n",
            "  0.40740124 0.57973867 0.        ]\n",
            " [0.47107781 0.         0.47107781 0.         0.         0.47107781\n",
            "  0.         0.33517574 0.47107781]]\n"
          ]
        }
      ]
    },
    {
      "cell_type": "code",
      "source": [
        "import gensim\n",
        "# Sample documents\n",
        "documents = [\n",
        "    \"The cat sat on the mat.\",\n",
        "    \"The dog played with a ball.\"\n",
        "]\n",
        "\n",
        "# Tokenize the documents\n",
        "tokenized_documents = [doc.split() for doc in documents]\n",
        "# Train the Word2Vec model\n",
        "model = gensim.models.Word2Vec(tokenized_documents, window=5, min_count=1, workers=4)\n",
        "dog_vector = model.wv[\"dog\"]\n",
        "cat_vector = model.wv[\"cat\"]\n",
        "\n",
        "# Calculate the similarity between \"dog\" and \"cat\"\n",
        "similarity = model.wv.similarity(\"dog\", \"cat\")\n",
        "\n",
        "print(f\"Dog vector: {dog_vector}\")\n",
        "print(f\"Cat vector: {cat_vector}\")\n",
        "print(f\"Similarity between dog and cat: {similarity}\")"
      ],
      "metadata": {
        "id": "HELure_7keNw",
        "outputId": "d41ffe75-3137-40dd-d379-7ed8e32b4601",
        "colab": {
          "base_uri": "https://localhost:8080/"
        }
      },
      "id": "HELure_7keNw",
      "execution_count": 8,
      "outputs": [
        {
          "output_type": "stream",
          "name": "stdout",
          "text": [
            "Dog vector: [-8.7274825e-03  2.1301615e-03 -8.7354420e-04 -9.3190884e-03\n",
            " -9.4281426e-03 -1.4107180e-03  4.4324086e-03  3.7040710e-03\n",
            " -6.4986930e-03 -6.8730675e-03 -4.9994122e-03 -2.2868442e-03\n",
            " -7.2502876e-03 -9.6033178e-03 -2.7436293e-03 -8.3628409e-03\n",
            " -6.0388758e-03 -5.6709289e-03 -2.3441375e-03 -1.7069972e-03\n",
            " -8.9569986e-03 -7.3519943e-04  8.1525063e-03  7.6904297e-03\n",
            " -7.2061159e-03 -3.6668312e-03  3.1185520e-03 -9.5707225e-03\n",
            "  1.4764392e-03  6.5244664e-03  5.7464195e-03 -8.7630618e-03\n",
            " -4.5171441e-03 -8.1401607e-03  4.5956374e-05  9.2636338e-03\n",
            "  5.9733056e-03  5.0673080e-03  5.0610625e-03 -3.2429171e-03\n",
            "  9.5521836e-03 -7.3564244e-03 -7.2703874e-03 -2.2653891e-03\n",
            " -7.7856064e-04 -3.2161034e-03 -5.9258583e-04  7.4888230e-03\n",
            " -6.9751858e-04 -1.6249407e-03  2.7443992e-03 -8.3591007e-03\n",
            "  7.8558037e-03  8.5361041e-03 -9.5840869e-03  2.4462664e-03\n",
            "  9.9049713e-03 -7.6658037e-03 -6.9669187e-03 -7.7365171e-03\n",
            "  8.3959233e-03 -6.8133592e-04  9.1444086e-03 -8.1582209e-03\n",
            "  3.7430846e-03  2.6350426e-03  7.4271322e-04  2.3276759e-03\n",
            " -7.4690939e-03 -9.3583735e-03  2.3545765e-03  6.1484552e-03\n",
            "  7.9856887e-03  5.7358947e-03 -7.7733636e-04  8.3061643e-03\n",
            " -9.3363142e-03  3.4061326e-03  2.6675343e-04  3.8572443e-03\n",
            "  7.3857834e-03 -6.7251669e-03  5.5844807e-03 -9.5222248e-03\n",
            " -8.0445886e-04 -8.6887367e-03 -5.0986730e-03  9.2892265e-03\n",
            " -1.8582619e-03  2.9144264e-03  9.0712793e-03  8.9381328e-03\n",
            " -8.2084350e-03 -3.0123137e-03  9.8866057e-03  5.1044310e-03\n",
            " -1.5880871e-03 -8.6920215e-03  2.9615164e-03 -6.6758976e-03]\n",
            "Cat vector: [ 7.0887972e-03 -1.5679300e-03  7.9474989e-03 -9.4886590e-03\n",
            " -8.0294991e-03 -6.6403709e-03 -4.0034545e-03  4.9892161e-03\n",
            " -3.8135587e-03 -8.3199050e-03  8.4117772e-03 -3.7470020e-03\n",
            "  8.6086961e-03 -4.8957514e-03  3.9185942e-03  4.9220170e-03\n",
            "  2.3926091e-03 -2.8188038e-03  2.8491246e-03 -8.2562361e-03\n",
            " -2.7655398e-03 -2.5911583e-03  7.2490061e-03 -3.4634031e-03\n",
            " -6.5997029e-03  4.3404270e-03 -4.7448516e-04 -3.5975564e-03\n",
            "  6.8824720e-03  3.8723124e-03 -3.9002013e-03  7.7188847e-04\n",
            "  9.1435025e-03  7.7546560e-03  6.3618720e-03  4.6673026e-03\n",
            "  2.3844899e-03 -1.8416261e-03 -6.3712932e-03 -3.0181051e-04\n",
            " -1.5653884e-03 -5.7228567e-04 -6.2628710e-03  7.4340473e-03\n",
            " -6.5914928e-03 -7.2392775e-03 -2.7571463e-03 -1.5154004e-03\n",
            " -7.6357173e-03  6.9824100e-04 -5.3261113e-03 -1.2755442e-03\n",
            " -7.3651113e-03  1.9605684e-03  3.2731986e-03 -2.3138524e-05\n",
            " -5.4483581e-03 -1.7260861e-03  7.0849168e-03  3.7362587e-03\n",
            " -8.8810492e-03 -3.4135508e-03  2.3541022e-03  2.1380198e-03\n",
            " -9.4640078e-03  4.5711659e-03 -8.6569972e-03 -7.3870681e-03\n",
            "  3.4831120e-03 -3.4709584e-03  3.5644709e-03  8.8940905e-03\n",
            " -3.5743224e-03  9.3204249e-03  1.7110384e-03  9.8477742e-03\n",
            "  5.7050432e-03 -9.1494834e-03 -3.3277308e-03  6.5301750e-03\n",
            "  5.6027793e-03  8.7055154e-03  6.9261026e-03  8.0388878e-03\n",
            " -9.8230084e-03  4.2988253e-03 -5.0300765e-03  3.5123860e-03\n",
            "  6.0566878e-03  4.3921317e-03  7.5123594e-03  1.4977157e-03\n",
            " -1.2649416e-03  5.7684006e-03 -5.6395675e-03  3.8591625e-05\n",
            "  9.4565870e-03 -5.4812501e-03  3.8142789e-03 -8.1130210e-03]\n",
            "Similarity between dog and cat: 0.020000364631414413\n"
          ]
        }
      ]
    },
    {
      "cell_type": "code",
      "source": [
        "import gensim\n",
        "\n",
        "# Sample documents\n",
        "documents = [\n",
        "    \"The cat sat on the mat.\",\n",
        "    \"The dog played with a ball.\"\n",
        "]\n",
        "\n",
        "# Tokenize the documents\n",
        "tokenized_documents = [doc.split() for doc in documents]\n",
        "\n",
        "# Train the Word2Vec model with updated parameter\n",
        "model = gensim.models.Word2Vec(tokenized_documents, vector_size=100, window=5, min_count=1, workers=4)\n",
        "\n",
        "# Get vectors for \"dog\" and \"cat\"\n",
        "dog_vector = model.wv[\"dog\"]\n",
        "cat_vector = model.wv[\"cat\"]\n",
        "\n",
        "# Calculate the similarity between \"dog\" and \"cat\"\n",
        "similarity = model.wv.similarity(\"dog\", \"cat\")\n",
        "\n",
        "print(f\"Dog vector: {dog_vector}\")\n",
        "print(f\"Cat vector: {cat_vector}\")\n",
        "print(f\"Similarity between dog and cat: {similarity}\")\n"
      ],
      "metadata": {
        "id": "4wTlgSfikjGZ",
        "outputId": "7fbe478b-bc81-43da-b7f1-2cc507b3bfd3",
        "colab": {
          "base_uri": "https://localhost:8080/"
        }
      },
      "id": "4wTlgSfikjGZ",
      "execution_count": 10,
      "outputs": [
        {
          "output_type": "stream",
          "name": "stdout",
          "text": [
            "Dog vector: [-8.7274825e-03  2.1301615e-03 -8.7354420e-04 -9.3190884e-03\n",
            " -9.4281426e-03 -1.4107180e-03  4.4324086e-03  3.7040710e-03\n",
            " -6.4986930e-03 -6.8730675e-03 -4.9994122e-03 -2.2868442e-03\n",
            " -7.2502876e-03 -9.6033178e-03 -2.7436293e-03 -8.3628409e-03\n",
            " -6.0388758e-03 -5.6709289e-03 -2.3441375e-03 -1.7069972e-03\n",
            " -8.9569986e-03 -7.3519943e-04  8.1525063e-03  7.6904297e-03\n",
            " -7.2061159e-03 -3.6668312e-03  3.1185520e-03 -9.5707225e-03\n",
            "  1.4764392e-03  6.5244664e-03  5.7464195e-03 -8.7630618e-03\n",
            " -4.5171441e-03 -8.1401607e-03  4.5956374e-05  9.2636338e-03\n",
            "  5.9733056e-03  5.0673080e-03  5.0610625e-03 -3.2429171e-03\n",
            "  9.5521836e-03 -7.3564244e-03 -7.2703874e-03 -2.2653891e-03\n",
            " -7.7856064e-04 -3.2161034e-03 -5.9258583e-04  7.4888230e-03\n",
            " -6.9751858e-04 -1.6249407e-03  2.7443992e-03 -8.3591007e-03\n",
            "  7.8558037e-03  8.5361041e-03 -9.5840869e-03  2.4462664e-03\n",
            "  9.9049713e-03 -7.6658037e-03 -6.9669187e-03 -7.7365171e-03\n",
            "  8.3959233e-03 -6.8133592e-04  9.1444086e-03 -8.1582209e-03\n",
            "  3.7430846e-03  2.6350426e-03  7.4271322e-04  2.3276759e-03\n",
            " -7.4690939e-03 -9.3583735e-03  2.3545765e-03  6.1484552e-03\n",
            "  7.9856887e-03  5.7358947e-03 -7.7733636e-04  8.3061643e-03\n",
            " -9.3363142e-03  3.4061326e-03  2.6675343e-04  3.8572443e-03\n",
            "  7.3857834e-03 -6.7251669e-03  5.5844807e-03 -9.5222248e-03\n",
            " -8.0445886e-04 -8.6887367e-03 -5.0986730e-03  9.2892265e-03\n",
            " -1.8582619e-03  2.9144264e-03  9.0712793e-03  8.9381328e-03\n",
            " -8.2084350e-03 -3.0123137e-03  9.8866057e-03  5.1044310e-03\n",
            " -1.5880871e-03 -8.6920215e-03  2.9615164e-03 -6.6758976e-03]\n",
            "Cat vector: [ 7.0887972e-03 -1.5679300e-03  7.9474989e-03 -9.4886590e-03\n",
            " -8.0294991e-03 -6.6403709e-03 -4.0034545e-03  4.9892161e-03\n",
            " -3.8135587e-03 -8.3199050e-03  8.4117772e-03 -3.7470020e-03\n",
            "  8.6086961e-03 -4.8957514e-03  3.9185942e-03  4.9220170e-03\n",
            "  2.3926091e-03 -2.8188038e-03  2.8491246e-03 -8.2562361e-03\n",
            " -2.7655398e-03 -2.5911583e-03  7.2490061e-03 -3.4634031e-03\n",
            " -6.5997029e-03  4.3404270e-03 -4.7448516e-04 -3.5975564e-03\n",
            "  6.8824720e-03  3.8723124e-03 -3.9002013e-03  7.7188847e-04\n",
            "  9.1435025e-03  7.7546560e-03  6.3618720e-03  4.6673026e-03\n",
            "  2.3844899e-03 -1.8416261e-03 -6.3712932e-03 -3.0181051e-04\n",
            " -1.5653884e-03 -5.7228567e-04 -6.2628710e-03  7.4340473e-03\n",
            " -6.5914928e-03 -7.2392775e-03 -2.7571463e-03 -1.5154004e-03\n",
            " -7.6357173e-03  6.9824100e-04 -5.3261113e-03 -1.2755442e-03\n",
            " -7.3651113e-03  1.9605684e-03  3.2731986e-03 -2.3138524e-05\n",
            " -5.4483581e-03 -1.7260861e-03  7.0849168e-03  3.7362587e-03\n",
            " -8.8810492e-03 -3.4135508e-03  2.3541022e-03  2.1380198e-03\n",
            " -9.4640078e-03  4.5711659e-03 -8.6569972e-03 -7.3870681e-03\n",
            "  3.4831120e-03 -3.4709584e-03  3.5644709e-03  8.8940905e-03\n",
            " -3.5743224e-03  9.3204249e-03  1.7110384e-03  9.8477742e-03\n",
            "  5.7050432e-03 -9.1494834e-03 -3.3277308e-03  6.5301750e-03\n",
            "  5.6027793e-03  8.7055154e-03  6.9261026e-03  8.0388878e-03\n",
            " -9.8230084e-03  4.2988253e-03 -5.0300765e-03  3.5123860e-03\n",
            "  6.0566878e-03  4.3921317e-03  7.5123594e-03  1.4977157e-03\n",
            " -1.2649416e-03  5.7684006e-03 -5.6395675e-03  3.8591625e-05\n",
            "  9.4565870e-03 -5.4812501e-03  3.8142789e-03 -8.1130210e-03]\n",
            "Similarity between dog and cat: 0.020000364631414413\n"
          ]
        }
      ]
    }
  ],
  "metadata": {
    "kernelspec": {
      "display_name": "Python 3",
      "name": "python3"
    },
    "language_info": {
      "name": "python"
    },
    "required_libs": [],
    "colab": {
      "provenance": []
    }
  },
  "nbformat": 4,
  "nbformat_minor": 5
}